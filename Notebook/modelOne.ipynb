{
 "cells": [
  {
   "cell_type": "code",
<<<<<<< HEAD
<<<<<<< HEAD
   "execution_count": 7,
   "id": "445f7ded",
   "metadata": {},
   "outputs": [],
=======
=======
>>>>>>> kiumbe
   "execution_count": 1,
   "id": "445f7ded",
   "metadata": {},
   "outputs": [
    {
     "name": "stderr",
     "output_type": "stream",
     "text": [
      "2023-10-30 11:50:44.831490: I tensorflow/tsl/cuda/cudart_stub.cc:28] Could not find cuda drivers on your machine, GPU will not be used.\n",
      "2023-10-30 11:50:44.883102: E tensorflow/compiler/xla/stream_executor/cuda/cuda_dnn.cc:9342] Unable to register cuDNN factory: Attempting to register factory for plugin cuDNN when one has already been registered\n",
      "2023-10-30 11:50:44.883144: E tensorflow/compiler/xla/stream_executor/cuda/cuda_fft.cc:609] Unable to register cuFFT factory: Attempting to register factory for plugin cuFFT when one has already been registered\n",
      "2023-10-30 11:50:44.883190: E tensorflow/compiler/xla/stream_executor/cuda/cuda_blas.cc:1518] Unable to register cuBLAS factory: Attempting to register factory for plugin cuBLAS when one has already been registered\n",
      "2023-10-30 11:50:44.893100: I tensorflow/tsl/cuda/cudart_stub.cc:28] Could not find cuda drivers on your machine, GPU will not be used.\n",
      "2023-10-30 11:50:44.893929: I tensorflow/core/platform/cpu_feature_guard.cc:182] This TensorFlow binary is optimized to use available CPU instructions in performance-critical operations.\n",
      "To enable the following instructions: AVX2 FMA, in other operations, rebuild TensorFlow with the appropriate compiler flags.\n",
      "2023-10-30 11:50:46.685807: W tensorflow/compiler/tf2tensorrt/utils/py_utils.cc:38] TF-TRT Warning: Could not find TensorRT\n"
     ]
    }
   ],
<<<<<<< HEAD
>>>>>>> 6ef0021 (server can now send back data)
=======
>>>>>>> kiumbe
   "source": [
    "import tensorflow as tf"
   ]
  },
  {
   "cell_type": "code",
<<<<<<< HEAD
<<<<<<< HEAD
   "execution_count": 8,
=======
   "execution_count": 2,
>>>>>>> 6ef0021 (server can now send back data)
=======
   "execution_count": 2,
>>>>>>> kiumbe
   "id": "2efcad12",
   "metadata": {},
   "outputs": [],
   "source": [
    "daily_sales_numbers = [21, 22, -108, 31, -1, 31 ,32 ,34]"
   ]
  },
  {
   "cell_type": "code",
<<<<<<< HEAD
<<<<<<< HEAD
   "execution_count": 9,
=======
   "execution_count": 3,
>>>>>>> 6ef0021 (server can now send back data)
=======
   "execution_count": 3,
>>>>>>> kiumbe
   "id": "0064db7b",
   "metadata": {},
   "outputs": [],
   "source": [
    "tf_dataset = tf.data.Dataset.from_tensor_slices(daily_sales_numbers)"
   ]
  },
  {
   "cell_type": "code",
<<<<<<< HEAD
<<<<<<< HEAD
   "execution_count": 14,
=======
   "execution_count": 4,
>>>>>>> 6ef0021 (server can now send back data)
=======
   "execution_count": 4,
>>>>>>> kiumbe
   "id": "7c513b34",
   "metadata": {},
   "outputs": [
    {
     "name": "stdout",
     "output_type": "stream",
     "text": [
      "21\n",
      "22\n",
      "-108\n",
      "31\n",
      "-1\n",
      "31\n",
      "32\n",
      "34\n"
     ]
    }
   ],
   "source": [
    "for sales in tf_dataset.take(10):\n",
    "    print(sales.numpy())"
   ]
  },
  {
   "cell_type": "code",
<<<<<<< HEAD
<<<<<<< HEAD
   "execution_count": 17,
=======
   "execution_count": 5,
>>>>>>> 6ef0021 (server can now send back data)
=======
   "execution_count": 5,
>>>>>>> kiumbe
   "id": "93369bb0",
   "metadata": {},
   "outputs": [
    {
     "name": "stdout",
     "output_type": "stream",
     "text": [
      "21\n",
      "22\n",
      "31\n",
      "31\n",
      "32\n",
      "34\n"
     ]
    }
   ],
   "source": [
    "tf_dataset = tf_dataset.filter(lambda x: x>0)\n",
    "for sales in tf_dataset.take(10):\n",
    "    print(sales.numpy())"
   ]
  },
  {
   "cell_type": "code",
<<<<<<< HEAD
<<<<<<< HEAD
   "execution_count": 19,
=======
   "execution_count": 6,
>>>>>>> 6ef0021 (server can now send back data)
=======
   "execution_count": 6,
>>>>>>> kiumbe
   "id": "a03f9cdc",
   "metadata": {},
   "outputs": [
    {
     "name": "stdout",
     "output_type": "stream",
     "text": [
<<<<<<< HEAD
<<<<<<< HEAD
      "[3080 4340]\n",
      "[2940 4340]\n",
      "[4480 4760]\n"
=======
      "[2940 3080]\n",
      "[4340 4760]\n",
      "[4340 4480]\n"
>>>>>>> 6ef0021 (server can now send back data)
=======
      "[2940 3080]\n",
      "[4340 4760]\n",
      "[4340 4480]\n"
>>>>>>> kiumbe
     ]
    }
   ],
   "source": [
    "tf_dataset = tf.data.Dataset.from_tensor_slices(daily_sales_numbers)\n",
    "tf_dataset = tf_dataset.filter(lambda x: x>0).map(lambda y:y*140).shuffle(3).batch(2)\n",
    "for sales in tf_dataset:\n",
    "    print(sales.numpy())"
   ]
  },
  {
   "cell_type": "code",
<<<<<<< HEAD
<<<<<<< HEAD
   "execution_count": 24,
=======
   "execution_count": 7,
>>>>>>> 6ef0021 (server can now send back data)
=======
   "execution_count": 7,
>>>>>>> kiumbe
   "id": "ec11a778",
   "metadata": {},
   "outputs": [
    {
<<<<<<< HEAD
<<<<<<< HEAD
     "name": "stdout",
     "output_type": "stream",
     "text": [
      "b'images/cats/Persian-cat-rescue-062623-4-bde6b10fb66e4c929dc5b52bcfcbc57c (1).jpg'\n",
      "b'images/cats/1150 (1).jpg'\n",
      "b'images/cats/Cat_Diet_Banner_1800x500-R1-mobile.jpg'\n",
      "b'images/dogs/use-dog-repellents-2132575-hero-01-a712e0cca5c143b1a885b15841c50de5.jpg'\n",
      "b'images/cats/FELV-cat.jpg'\n"
=======
=======
>>>>>>> kiumbe
     "ename": "InvalidArgumentError",
     "evalue": "Expected 'tf.Tensor(False, shape=(), dtype=bool)' to be true. Summarized data: b'No files matched pattern: images/*/*'",
     "output_type": "error",
     "traceback": [
      "\u001b[0;31m---------------------------------------------------------------------------\u001b[0m",
      "\u001b[0;31mInvalidArgumentError\u001b[0m                      Traceback (most recent call last)",
      "\u001b[1;32m/home/kips/Documents/Fourth Year Project/Training/Notebook/modelOne.ipynb Cell 7\u001b[0m line \u001b[0;36m1\n\u001b[0;32m----> <a href='vscode-notebook-cell:/home/kips/Documents/Fourth%20Year%20Project/Training/Notebook/modelOne.ipynb#W6sZmlsZQ%3D%3D?line=0'>1</a>\u001b[0m images_ds \u001b[39m=\u001b[39m tf\u001b[39m.\u001b[39mdata\u001b[39m.\u001b[39mDataset\u001b[39m.\u001b[39mlist_files(\u001b[39m\"\u001b[39m\u001b[39mimages/*/*\u001b[39m\u001b[39m\"\u001b[39m, shuffle \u001b[39m=\u001b[39m \u001b[39mTrue\u001b[39;00m)\n\u001b[1;32m      <a href='vscode-notebook-cell:/home/kips/Documents/Fourth%20Year%20Project/Training/Notebook/modelOne.ipynb#W6sZmlsZQ%3D%3D?line=1'>2</a>\u001b[0m \u001b[39mfor\u001b[39;00m images \u001b[39min\u001b[39;00m images_ds\u001b[39m.\u001b[39mtake(\u001b[39m5\u001b[39m):\n\u001b[1;32m      <a href='vscode-notebook-cell:/home/kips/Documents/Fourth%20Year%20Project/Training/Notebook/modelOne.ipynb#W6sZmlsZQ%3D%3D?line=2'>3</a>\u001b[0m     \u001b[39mprint\u001b[39m(images\u001b[39m.\u001b[39mnumpy())\n",
      "File \u001b[0;32m~/anaconda3/envs/waba/lib/python3.11/site-packages/tensorflow/python/data/ops/dataset_ops.py:1293\u001b[0m, in \u001b[0;36mDatasetV2.list_files\u001b[0;34m(file_pattern, shuffle, seed, name)\u001b[0m\n\u001b[1;32m   1286\u001b[0m condition \u001b[39m=\u001b[39m math_ops\u001b[39m.\u001b[39mgreater(array_ops\u001b[39m.\u001b[39mshape(matching_files)[\u001b[39m0\u001b[39m], \u001b[39m0\u001b[39m,\n\u001b[1;32m   1287\u001b[0m                              name\u001b[39m=\u001b[39m\u001b[39m\"\u001b[39m\u001b[39mmatch_not_empty\u001b[39m\u001b[39m\"\u001b[39m)\n\u001b[1;32m   1289\u001b[0m message \u001b[39m=\u001b[39m math_ops\u001b[39m.\u001b[39madd(\n\u001b[1;32m   1290\u001b[0m     \u001b[39m\"\u001b[39m\u001b[39mNo files matched pattern: \u001b[39m\u001b[39m\"\u001b[39m,\n\u001b[1;32m   1291\u001b[0m     string_ops\u001b[39m.\u001b[39mreduce_join(file_pattern, separator\u001b[39m=\u001b[39m\u001b[39m\"\u001b[39m\u001b[39m, \u001b[39m\u001b[39m\"\u001b[39m), name\u001b[39m=\u001b[39m\u001b[39m\"\u001b[39m\u001b[39mmessage\u001b[39m\u001b[39m\"\u001b[39m)\n\u001b[0;32m-> 1293\u001b[0m assert_not_empty \u001b[39m=\u001b[39m control_flow_assert\u001b[39m.\u001b[39mAssert(\n\u001b[1;32m   1294\u001b[0m     condition, [message], summarize\u001b[39m=\u001b[39m\u001b[39m1\u001b[39m, name\u001b[39m=\u001b[39m\u001b[39m\"\u001b[39m\u001b[39massert_not_empty\u001b[39m\u001b[39m\"\u001b[39m)\n\u001b[1;32m   1295\u001b[0m \u001b[39mwith\u001b[39;00m ops\u001b[39m.\u001b[39mcontrol_dependencies([assert_not_empty]):\n\u001b[1;32m   1296\u001b[0m   matching_files \u001b[39m=\u001b[39m array_ops\u001b[39m.\u001b[39midentity(matching_files)\n",
      "File \u001b[0;32m~/anaconda3/envs/waba/lib/python3.11/site-packages/tensorflow/python/util/traceback_utils.py:153\u001b[0m, in \u001b[0;36mfilter_traceback.<locals>.error_handler\u001b[0;34m(*args, **kwargs)\u001b[0m\n\u001b[1;32m    151\u001b[0m \u001b[39mexcept\u001b[39;00m \u001b[39mException\u001b[39;00m \u001b[39mas\u001b[39;00m e:\n\u001b[1;32m    152\u001b[0m   filtered_tb \u001b[39m=\u001b[39m _process_traceback_frames(e\u001b[39m.\u001b[39m__traceback__)\n\u001b[0;32m--> 153\u001b[0m   \u001b[39mraise\u001b[39;00m e\u001b[39m.\u001b[39mwith_traceback(filtered_tb) \u001b[39mfrom\u001b[39;00m \u001b[39mNone\u001b[39;00m\n\u001b[1;32m    154\u001b[0m \u001b[39mfinally\u001b[39;00m:\n\u001b[1;32m    155\u001b[0m   \u001b[39mdel\u001b[39;00m filtered_tb\n",
      "File \u001b[0;32m~/anaconda3/envs/waba/lib/python3.11/site-packages/tensorflow/python/ops/control_flow_assert.py:102\u001b[0m, in \u001b[0;36mAssert\u001b[0;34m(condition, data, summarize, name)\u001b[0m\n\u001b[1;32m    100\u001b[0m     xs \u001b[39m=\u001b[39m ops\u001b[39m.\u001b[39mconvert_n_to_tensor(data)\n\u001b[1;32m    101\u001b[0m     data_str \u001b[39m=\u001b[39m [_summarize_eager(x, summarize) \u001b[39mfor\u001b[39;00m x \u001b[39min\u001b[39;00m xs]\n\u001b[0;32m--> 102\u001b[0m     \u001b[39mraise\u001b[39;00m errors\u001b[39m.\u001b[39mInvalidArgumentError(\n\u001b[1;32m    103\u001b[0m         node_def\u001b[39m=\u001b[39m\u001b[39mNone\u001b[39;00m,\n\u001b[1;32m    104\u001b[0m         op\u001b[39m=\u001b[39m\u001b[39mNone\u001b[39;00m,\n\u001b[1;32m    105\u001b[0m         message\u001b[39m=\u001b[39m\u001b[39m\"\u001b[39m\u001b[39mExpected \u001b[39m\u001b[39m'\u001b[39m\u001b[39m%s\u001b[39;00m\u001b[39m'\u001b[39m\u001b[39m to be true. Summarized data: \u001b[39m\u001b[39m%s\u001b[39;00m\u001b[39m\"\u001b[39m \u001b[39m%\u001b[39m\n\u001b[1;32m    106\u001b[0m         (condition, \u001b[39m\"\u001b[39m\u001b[39m\\n\u001b[39;00m\u001b[39m\"\u001b[39m\u001b[39m.\u001b[39mjoin(data_str)))\n\u001b[1;32m    107\u001b[0m   \u001b[39mreturn\u001b[39;00m\n\u001b[1;32m    109\u001b[0m \u001b[39mwith\u001b[39;00m ops\u001b[39m.\u001b[39mname_scope(name, \u001b[39m\"\u001b[39m\u001b[39mAssert\u001b[39m\u001b[39m\"\u001b[39m, [condition, data]) \u001b[39mas\u001b[39;00m name:\n",
      "\u001b[0;31mInvalidArgumentError\u001b[0m: Expected 'tf.Tensor(False, shape=(), dtype=bool)' to be true. Summarized data: b'No files matched pattern: images/*/*'"
<<<<<<< HEAD
>>>>>>> 6ef0021 (server can now send back data)
=======
>>>>>>> kiumbe
     ]
    }
   ],
   "source": [
    "images_ds = tf.data.Dataset.list_files(\"images/*/*\", shuffle = True)\n",
    "for images in images_ds.take(5):\n",
    "    print(images.numpy())"
   ]
  },
  {
   "cell_type": "code",
   "execution_count": 25,
   "id": "d6e8aa42",
   "metadata": {},
   "outputs": [],
   "source": [
    "class_name = ['cats', 'dogs']"
   ]
  },
  {
   "cell_type": "code",
   "execution_count": 30,
   "id": "e27afb95",
   "metadata": {},
   "outputs": [],
   "source": [
    "def get_label(file_path):\n",
    "    import os\n",
    "    return tf.strings.split(file_path,os.path.sep)[-2]"
   ]
  },
  {
   "cell_type": "code",
   "execution_count": 32,
   "id": "050eb175",
   "metadata": {},
   "outputs": [
    {
     "name": "stdout",
     "output_type": "stream",
     "text": [
      "tf.Tensor(b'cats', shape=(), dtype=string)\n",
      "tf.Tensor(b'cats', shape=(), dtype=string)\n",
      "tf.Tensor(b'cats', shape=(), dtype=string)\n",
      "tf.Tensor(b'cats', shape=(), dtype=string)\n",
      "tf.Tensor(b'cats', shape=(), dtype=string)\n",
      "tf.Tensor(b'cats', shape=(), dtype=string)\n",
      "tf.Tensor(b'cats', shape=(), dtype=string)\n",
      "tf.Tensor(b'cats', shape=(), dtype=string)\n",
      "tf.Tensor(b'cats', shape=(), dtype=string)\n",
      "tf.Tensor(b'cats', shape=(), dtype=string)\n",
      "tf.Tensor(b'cats', shape=(), dtype=string)\n",
      "tf.Tensor(b'dogs', shape=(), dtype=string)\n",
      "tf.Tensor(b'cats', shape=(), dtype=string)\n",
      "tf.Tensor(b'cats', shape=(), dtype=string)\n",
      "tf.Tensor(b'cats', shape=(), dtype=string)\n",
      "tf.Tensor(b'cats', shape=(), dtype=string)\n",
      "tf.Tensor(b'cats', shape=(), dtype=string)\n",
      "tf.Tensor(b'cats', shape=(), dtype=string)\n",
      "tf.Tensor(b'cats', shape=(), dtype=string)\n",
      "tf.Tensor(b'cats', shape=(), dtype=string)\n",
      "tf.Tensor(b'cats', shape=(), dtype=string)\n",
      "tf.Tensor(b'cats', shape=(), dtype=string)\n",
      "tf.Tensor(b'cats', shape=(), dtype=string)\n",
      "tf.Tensor(b'cats', shape=(), dtype=string)\n",
      "tf.Tensor(b'dogs', shape=(), dtype=string)\n",
      "tf.Tensor(b'cats', shape=(), dtype=string)\n",
      "tf.Tensor(b'cats', shape=(), dtype=string)\n",
      "tf.Tensor(b'dogs', shape=(), dtype=string)\n",
      "tf.Tensor(b'cats', shape=(), dtype=string)\n",
      "tf.Tensor(b'dogs', shape=(), dtype=string)\n",
      "tf.Tensor(b'cats', shape=(), dtype=string)\n",
      "tf.Tensor(b'cats', shape=(), dtype=string)\n",
      "tf.Tensor(b'cats', shape=(), dtype=string)\n",
      "tf.Tensor(b'dogs', shape=(), dtype=string)\n",
      "tf.Tensor(b'dogs', shape=(), dtype=string)\n",
      "tf.Tensor(b'cats', shape=(), dtype=string)\n",
      "tf.Tensor(b'cats', shape=(), dtype=string)\n",
      "tf.Tensor(b'cats', shape=(), dtype=string)\n",
      "tf.Tensor(b'cats', shape=(), dtype=string)\n",
      "tf.Tensor(b'cats', shape=(), dtype=string)\n",
      "tf.Tensor(b'cats', shape=(), dtype=string)\n",
      "tf.Tensor(b'cats', shape=(), dtype=string)\n",
      "tf.Tensor(b'dogs', shape=(), dtype=string)\n",
      "tf.Tensor(b'cats', shape=(), dtype=string)\n",
      "tf.Tensor(b'cats', shape=(), dtype=string)\n",
      "tf.Tensor(b'cats', shape=(), dtype=string)\n",
      "tf.Tensor(b'cats', shape=(), dtype=string)\n",
      "tf.Tensor(b'dogs', shape=(), dtype=string)\n",
      "tf.Tensor(b'cats', shape=(), dtype=string)\n",
      "tf.Tensor(b'cats', shape=(), dtype=string)\n",
      "tf.Tensor(b'cats', shape=(), dtype=string)\n",
      "tf.Tensor(b'cats', shape=(), dtype=string)\n",
      "tf.Tensor(b'cats', shape=(), dtype=string)\n",
      "tf.Tensor(b'dogs', shape=(), dtype=string)\n",
      "tf.Tensor(b'dogs', shape=(), dtype=string)\n",
      "tf.Tensor(b'cats', shape=(), dtype=string)\n",
      "tf.Tensor(b'cats', shape=(), dtype=string)\n",
      "tf.Tensor(b'cats', shape=(), dtype=string)\n",
      "tf.Tensor(b'cats', shape=(), dtype=string)\n",
      "tf.Tensor(b'dogs', shape=(), dtype=string)\n",
      "tf.Tensor(b'cats', shape=(), dtype=string)\n",
      "tf.Tensor(b'cats', shape=(), dtype=string)\n",
      "tf.Tensor(b'cats', shape=(), dtype=string)\n",
      "tf.Tensor(b'cats', shape=(), dtype=string)\n",
      "tf.Tensor(b'cats', shape=(), dtype=string)\n",
      "tf.Tensor(b'dogs', shape=(), dtype=string)\n",
      "tf.Tensor(b'cats', shape=(), dtype=string)\n",
      "tf.Tensor(b'cats', shape=(), dtype=string)\n",
      "tf.Tensor(b'cats', shape=(), dtype=string)\n",
      "tf.Tensor(b'cats', shape=(), dtype=string)\n",
      "tf.Tensor(b'cats', shape=(), dtype=string)\n",
      "tf.Tensor(b'cats', shape=(), dtype=string)\n",
      "tf.Tensor(b'cats', shape=(), dtype=string)\n",
      "tf.Tensor(b'dogs', shape=(), dtype=string)\n",
      "tf.Tensor(b'dogs', shape=(), dtype=string)\n",
      "tf.Tensor(b'cats', shape=(), dtype=string)\n",
      "tf.Tensor(b'cats', shape=(), dtype=string)\n",
      "tf.Tensor(b'cats', shape=(), dtype=string)\n",
      "tf.Tensor(b'dogs', shape=(), dtype=string)\n",
      "tf.Tensor(b'cats', shape=(), dtype=string)\n",
      "tf.Tensor(b'cats', shape=(), dtype=string)\n",
      "tf.Tensor(b'cats', shape=(), dtype=string)\n",
      "tf.Tensor(b'cats', shape=(), dtype=string)\n",
      "tf.Tensor(b'cats', shape=(), dtype=string)\n",
      "tf.Tensor(b'cats', shape=(), dtype=string)\n",
      "tf.Tensor(b'dogs', shape=(), dtype=string)\n",
      "tf.Tensor(b'dogs', shape=(), dtype=string)\n",
      "tf.Tensor(b'cats', shape=(), dtype=string)\n",
      "tf.Tensor(b'dogs', shape=(), dtype=string)\n",
      "tf.Tensor(b'cats', shape=(), dtype=string)\n",
      "tf.Tensor(b'cats', shape=(), dtype=string)\n",
      "tf.Tensor(b'cats', shape=(), dtype=string)\n",
      "tf.Tensor(b'cats', shape=(), dtype=string)\n",
      "tf.Tensor(b'cats', shape=(), dtype=string)\n",
      "tf.Tensor(b'cats', shape=(), dtype=string)\n",
      "tf.Tensor(b'cats', shape=(), dtype=string)\n",
      "tf.Tensor(b'cats', shape=(), dtype=string)\n",
      "tf.Tensor(b'cats', shape=(), dtype=string)\n",
      "tf.Tensor(b'cats', shape=(), dtype=string)\n",
      "tf.Tensor(b'cats', shape=(), dtype=string)\n",
      "tf.Tensor(b'cats', shape=(), dtype=string)\n",
      "tf.Tensor(b'dogs', shape=(), dtype=string)\n",
      "tf.Tensor(b'cats', shape=(), dtype=string)\n",
      "tf.Tensor(b'cats', shape=(), dtype=string)\n",
      "tf.Tensor(b'cats', shape=(), dtype=string)\n",
      "tf.Tensor(b'cats', shape=(), dtype=string)\n",
      "tf.Tensor(b'cats', shape=(), dtype=string)\n",
      "tf.Tensor(b'cats', shape=(), dtype=string)\n",
      "tf.Tensor(b'cats', shape=(), dtype=string)\n",
      "tf.Tensor(b'dogs', shape=(), dtype=string)\n",
      "tf.Tensor(b'cats', shape=(), dtype=string)\n",
      "tf.Tensor(b'cats', shape=(), dtype=string)\n",
      "tf.Tensor(b'cats', shape=(), dtype=string)\n",
      "tf.Tensor(b'cats', shape=(), dtype=string)\n",
      "tf.Tensor(b'cats', shape=(), dtype=string)\n",
      "tf.Tensor(b'cats', shape=(), dtype=string)\n",
      "tf.Tensor(b'cats', shape=(), dtype=string)\n",
      "tf.Tensor(b'cats', shape=(), dtype=string)\n",
      "tf.Tensor(b'cats', shape=(), dtype=string)\n",
      "tf.Tensor(b'cats', shape=(), dtype=string)\n",
      "tf.Tensor(b'cats', shape=(), dtype=string)\n",
      "tf.Tensor(b'cats', shape=(), dtype=string)\n",
      "tf.Tensor(b'cats', shape=(), dtype=string)\n",
      "tf.Tensor(b'cats', shape=(), dtype=string)\n",
      "tf.Tensor(b'cats', shape=(), dtype=string)\n",
      "tf.Tensor(b'cats', shape=(), dtype=string)\n",
      "tf.Tensor(b'cats', shape=(), dtype=string)\n",
      "tf.Tensor(b'cats', shape=(), dtype=string)\n",
      "tf.Tensor(b'cats', shape=(), dtype=string)\n",
      "tf.Tensor(b'dogs', shape=(), dtype=string)\n",
      "tf.Tensor(b'cats', shape=(), dtype=string)\n",
      "tf.Tensor(b'cats', shape=(), dtype=string)\n",
      "tf.Tensor(b'cats', shape=(), dtype=string)\n",
      "tf.Tensor(b'cats', shape=(), dtype=string)\n",
      "tf.Tensor(b'cats', shape=(), dtype=string)\n",
      "tf.Tensor(b'cats', shape=(), dtype=string)\n",
      "tf.Tensor(b'cats', shape=(), dtype=string)\n",
      "tf.Tensor(b'cats', shape=(), dtype=string)\n",
      "tf.Tensor(b'cats', shape=(), dtype=string)\n",
      "tf.Tensor(b'cats', shape=(), dtype=string)\n",
      "tf.Tensor(b'cats', shape=(), dtype=string)\n",
      "tf.Tensor(b'dogs', shape=(), dtype=string)\n",
      "tf.Tensor(b'dogs', shape=(), dtype=string)\n",
      "tf.Tensor(b'cats', shape=(), dtype=string)\n",
      "tf.Tensor(b'cats', shape=(), dtype=string)\n",
      "tf.Tensor(b'dogs', shape=(), dtype=string)\n",
      "tf.Tensor(b'cats', shape=(), dtype=string)\n",
      "tf.Tensor(b'dogs', shape=(), dtype=string)\n",
      "tf.Tensor(b'cats', shape=(), dtype=string)\n",
      "tf.Tensor(b'cats', shape=(), dtype=string)\n",
      "tf.Tensor(b'cats', shape=(), dtype=string)\n",
      "tf.Tensor(b'cats', shape=(), dtype=string)\n",
      "tf.Tensor(b'cats', shape=(), dtype=string)\n",
      "tf.Tensor(b'dogs', shape=(), dtype=string)\n",
      "tf.Tensor(b'cats', shape=(), dtype=string)\n",
      "tf.Tensor(b'dogs', shape=(), dtype=string)\n",
      "tf.Tensor(b'cats', shape=(), dtype=string)\n",
      "tf.Tensor(b'dogs', shape=(), dtype=string)\n",
      "tf.Tensor(b'cats', shape=(), dtype=string)\n",
      "tf.Tensor(b'cats', shape=(), dtype=string)\n",
      "tf.Tensor(b'cats', shape=(), dtype=string)\n",
      "tf.Tensor(b'cats', shape=(), dtype=string)\n",
      "tf.Tensor(b'cats', shape=(), dtype=string)\n",
      "tf.Tensor(b'cats', shape=(), dtype=string)\n",
      "tf.Tensor(b'cats', shape=(), dtype=string)\n",
      "tf.Tensor(b'cats', shape=(), dtype=string)\n",
      "tf.Tensor(b'cats', shape=(), dtype=string)\n",
      "tf.Tensor(b'cats', shape=(), dtype=string)\n",
      "tf.Tensor(b'cats', shape=(), dtype=string)\n",
      "tf.Tensor(b'cats', shape=(), dtype=string)\n",
      "tf.Tensor(b'dogs', shape=(), dtype=string)\n",
      "tf.Tensor(b'cats', shape=(), dtype=string)\n",
      "tf.Tensor(b'cats', shape=(), dtype=string)\n",
      "tf.Tensor(b'dogs', shape=(), dtype=string)\n",
      "tf.Tensor(b'dogs', shape=(), dtype=string)\n",
      "tf.Tensor(b'cats', shape=(), dtype=string)\n",
      "tf.Tensor(b'dogs', shape=(), dtype=string)\n",
      "tf.Tensor(b'cats', shape=(), dtype=string)\n",
      "tf.Tensor(b'cats', shape=(), dtype=string)\n",
      "tf.Tensor(b'cats', shape=(), dtype=string)\n",
      "tf.Tensor(b'cats', shape=(), dtype=string)\n",
      "tf.Tensor(b'cats', shape=(), dtype=string)\n",
      "tf.Tensor(b'cats', shape=(), dtype=string)\n",
      "tf.Tensor(b'cats', shape=(), dtype=string)\n",
      "tf.Tensor(b'cats', shape=(), dtype=string)\n",
      "tf.Tensor(b'cats', shape=(), dtype=string)\n",
      "tf.Tensor(b'cats', shape=(), dtype=string)\n",
      "tf.Tensor(b'cats', shape=(), dtype=string)\n",
      "tf.Tensor(b'cats', shape=(), dtype=string)\n",
      "tf.Tensor(b'cats', shape=(), dtype=string)\n",
      "tf.Tensor(b'cats', shape=(), dtype=string)\n",
      "tf.Tensor(b'cats', shape=(), dtype=string)\n",
      "tf.Tensor(b'cats', shape=(), dtype=string)\n",
      "tf.Tensor(b'cats', shape=(), dtype=string)\n",
      "tf.Tensor(b'cats', shape=(), dtype=string)\n",
      "tf.Tensor(b'cats', shape=(), dtype=string)\n",
      "tf.Tensor(b'cats', shape=(), dtype=string)\n",
      "tf.Tensor(b'cats', shape=(), dtype=string)\n",
      "tf.Tensor(b'cats', shape=(), dtype=string)\n",
      "tf.Tensor(b'cats', shape=(), dtype=string)\n",
      "tf.Tensor(b'cats', shape=(), dtype=string)\n",
      "tf.Tensor(b'dogs', shape=(), dtype=string)\n",
      "tf.Tensor(b'cats', shape=(), dtype=string)\n",
      "tf.Tensor(b'cats', shape=(), dtype=string)\n",
      "tf.Tensor(b'cats', shape=(), dtype=string)\n",
      "tf.Tensor(b'cats', shape=(), dtype=string)\n",
      "tf.Tensor(b'cats', shape=(), dtype=string)\n",
      "tf.Tensor(b'cats', shape=(), dtype=string)\n",
      "tf.Tensor(b'cats', shape=(), dtype=string)\n",
      "tf.Tensor(b'cats', shape=(), dtype=string)\n",
      "tf.Tensor(b'cats', shape=(), dtype=string)\n",
      "tf.Tensor(b'dogs', shape=(), dtype=string)\n",
      "tf.Tensor(b'cats', shape=(), dtype=string)\n",
      "tf.Tensor(b'cats', shape=(), dtype=string)\n",
      "tf.Tensor(b'cats', shape=(), dtype=string)\n",
      "tf.Tensor(b'cats', shape=(), dtype=string)\n",
      "tf.Tensor(b'cats', shape=(), dtype=string)\n",
      "tf.Tensor(b'cats', shape=(), dtype=string)\n",
      "tf.Tensor(b'cats', shape=(), dtype=string)\n",
      "tf.Tensor(b'dogs', shape=(), dtype=string)\n",
      "tf.Tensor(b'cats', shape=(), dtype=string)\n",
      "tf.Tensor(b'cats', shape=(), dtype=string)\n",
      "tf.Tensor(b'cats', shape=(), dtype=string)\n",
      "tf.Tensor(b'cats', shape=(), dtype=string)\n",
      "tf.Tensor(b'cats', shape=(), dtype=string)\n",
      "tf.Tensor(b'dogs', shape=(), dtype=string)\n",
      "tf.Tensor(b'cats', shape=(), dtype=string)\n",
      "tf.Tensor(b'cats', shape=(), dtype=string)\n",
      "tf.Tensor(b'cats', shape=(), dtype=string)\n",
      "tf.Tensor(b'cats', shape=(), dtype=string)\n",
      "tf.Tensor(b'cats', shape=(), dtype=string)\n",
      "tf.Tensor(b'cats', shape=(), dtype=string)\n",
      "tf.Tensor(b'cats', shape=(), dtype=string)\n",
      "tf.Tensor(b'cats', shape=(), dtype=string)\n",
      "tf.Tensor(b'cats', shape=(), dtype=string)\n",
      "tf.Tensor(b'dogs', shape=(), dtype=string)\n",
      "tf.Tensor(b'cats', shape=(), dtype=string)\n",
      "tf.Tensor(b'dogs', shape=(), dtype=string)\n",
      "tf.Tensor(b'dogs', shape=(), dtype=string)\n",
      "tf.Tensor(b'dogs', shape=(), dtype=string)\n",
      "tf.Tensor(b'cats', shape=(), dtype=string)\n",
      "tf.Tensor(b'cats', shape=(), dtype=string)\n",
      "tf.Tensor(b'cats', shape=(), dtype=string)\n",
      "tf.Tensor(b'cats', shape=(), dtype=string)\n",
      "tf.Tensor(b'cats', shape=(), dtype=string)\n",
      "tf.Tensor(b'cats', shape=(), dtype=string)\n",
      "tf.Tensor(b'cats', shape=(), dtype=string)\n",
      "tf.Tensor(b'cats', shape=(), dtype=string)\n",
      "tf.Tensor(b'cats', shape=(), dtype=string)\n",
      "tf.Tensor(b'cats', shape=(), dtype=string)\n",
      "tf.Tensor(b'cats', shape=(), dtype=string)\n",
      "tf.Tensor(b'cats', shape=(), dtype=string)\n",
      "tf.Tensor(b'dogs', shape=(), dtype=string)\n",
      "tf.Tensor(b'cats', shape=(), dtype=string)\n",
      "tf.Tensor(b'dogs', shape=(), dtype=string)\n",
      "tf.Tensor(b'cats', shape=(), dtype=string)\n",
      "tf.Tensor(b'cats', shape=(), dtype=string)\n",
      "tf.Tensor(b'cats', shape=(), dtype=string)\n",
      "tf.Tensor(b'cats', shape=(), dtype=string)\n",
      "tf.Tensor(b'cats', shape=(), dtype=string)\n",
      "tf.Tensor(b'cats', shape=(), dtype=string)\n",
      "tf.Tensor(b'cats', shape=(), dtype=string)\n",
      "tf.Tensor(b'cats', shape=(), dtype=string)\n",
      "tf.Tensor(b'cats', shape=(), dtype=string)\n",
      "tf.Tensor(b'cats', shape=(), dtype=string)\n",
      "tf.Tensor(b'dogs', shape=(), dtype=string)\n",
      "tf.Tensor(b'dogs', shape=(), dtype=string)\n",
      "tf.Tensor(b'cats', shape=(), dtype=string)\n",
      "tf.Tensor(b'dogs', shape=(), dtype=string)\n",
      "tf.Tensor(b'cats', shape=(), dtype=string)\n",
      "tf.Tensor(b'cats', shape=(), dtype=string)\n",
      "tf.Tensor(b'cats', shape=(), dtype=string)\n",
      "tf.Tensor(b'dogs', shape=(), dtype=string)\n",
      "tf.Tensor(b'cats', shape=(), dtype=string)\n",
      "tf.Tensor(b'cats', shape=(), dtype=string)\n",
      "tf.Tensor(b'cats', shape=(), dtype=string)\n",
      "tf.Tensor(b'cats', shape=(), dtype=string)\n",
      "tf.Tensor(b'cats', shape=(), dtype=string)\n",
      "tf.Tensor(b'cats', shape=(), dtype=string)\n",
      "tf.Tensor(b'cats', shape=(), dtype=string)\n",
      "tf.Tensor(b'cats', shape=(), dtype=string)\n",
      "tf.Tensor(b'cats', shape=(), dtype=string)\n",
      "tf.Tensor(b'cats', shape=(), dtype=string)\n",
      "tf.Tensor(b'dogs', shape=(), dtype=string)\n",
      "tf.Tensor(b'cats', shape=(), dtype=string)\n",
      "tf.Tensor(b'cats', shape=(), dtype=string)\n",
      "tf.Tensor(b'cats', shape=(), dtype=string)\n",
      "tf.Tensor(b'cats', shape=(), dtype=string)\n",
      "tf.Tensor(b'cats', shape=(), dtype=string)\n",
      "tf.Tensor(b'cats', shape=(), dtype=string)\n",
      "tf.Tensor(b'cats', shape=(), dtype=string)\n",
      "tf.Tensor(b'cats', shape=(), dtype=string)\n"
     ]
    }
   ],
   "source": [
    "for label in images_ds.map(get_label):\n",
    "    print(label)"
   ]
  },
  {
   "cell_type": "code",
   "execution_count": 34,
   "id": "988ec132",
   "metadata": {},
   "outputs": [],
   "source": [
    "def process_image(file_path):\n",
    "    label = get_label(file_path)\n",
    "    img = tf.io.read_file(file_path)\n",
    "    img = tf.image.decode_jpeg(img)\n",
    "    img = tf.image.resize(img,[128,128])\n",
    "    return img , label"
   ]
  },
  {
   "cell_type": "code",
   "execution_count": 37,
   "id": "293a4b75",
   "metadata": {},
   "outputs": [
    {
     "name": "stdout",
     "output_type": "stream",
     "text": [
      "image: tf.Tensor(\n",
      "[[[198. 236. 213.]\n",
      "  [198. 236. 213.]\n",
      "  [198. 236. 213.]\n",
      "  ...\n",
      "  [198. 236. 213.]\n",
      "  [198. 236. 213.]\n",
      "  [198. 236. 213.]]\n",
      "\n",
      " [[198. 236. 213.]\n",
      "  [198. 236. 213.]\n",
      "  [198. 236. 213.]\n",
      "  ...\n",
      "  [198. 236. 213.]\n",
      "  [198. 236. 213.]\n",
      "  [198. 236. 213.]]\n",
      "\n",
      " [[198. 236. 213.]\n",
      "  [198. 236. 213.]\n",
      "  [198. 236. 213.]\n",
      "  ...\n",
      "  [198. 236. 213.]\n",
      "  [198. 236. 213.]\n",
      "  [198. 236. 213.]]\n",
      "\n",
      " ...\n",
      "\n",
      " [[198. 236. 213.]\n",
      "  [198. 236. 213.]\n",
      "  [198. 236. 213.]\n",
      "  ...\n",
      "  [198. 236. 213.]\n",
      "  [198. 236. 213.]\n",
      "  [198. 236. 213.]]\n",
      "\n",
      " [[198. 236. 213.]\n",
      "  [198. 236. 213.]\n",
      "  [198. 236. 213.]\n",
      "  ...\n",
      "  [198. 236. 213.]\n",
      "  [198. 236. 213.]\n",
      "  [198. 236. 213.]]\n",
      "\n",
      " [[198. 236. 213.]\n",
      "  [198. 236. 213.]\n",
      "  [198. 236. 213.]\n",
      "  ...\n",
      "  [198. 236. 213.]\n",
      "  [198. 236. 213.]\n",
      "  [198. 236. 213.]]], shape=(128, 128, 3), dtype=float32)\n",
      "label: tf.Tensor(b'cats', shape=(), dtype=string)\n",
      "image: tf.Tensor(\n",
      "[[[224.       228.       229.      ]\n",
      "  [224.       228.       229.      ]\n",
      "  [224.       228.       229.      ]\n",
      "  ...\n",
      "  [213.       218.       224.      ]\n",
      "  [168.76172  178.76172  188.76172 ]\n",
      "  [100.       114.       125.      ]]\n",
      "\n",
      " [[224.       228.       229.      ]\n",
      "  [224.       228.       229.      ]\n",
      "  [224.       228.       229.      ]\n",
      "  ...\n",
      "  [213.       218.       224.      ]\n",
      "  [165.28516  175.28516  185.28516 ]\n",
      "  [ 97.28516  111.28516  122.28516 ]]\n",
      "\n",
      " [[224.       228.       229.      ]\n",
      "  [224.       228.       229.      ]\n",
      "  [224.       228.       229.      ]\n",
      "  ...\n",
      "  [207.       212.       218.      ]\n",
      "  [162.       172.       182.      ]\n",
      "  [ 94.       108.       119.      ]]\n",
      "\n",
      " ...\n",
      "\n",
      " [[184.61719  155.61719  125.234375]\n",
      "  [181.61719  156.8086   125.234375]\n",
      "  [181.1914   162.       128.61719 ]\n",
      "  ...\n",
      "  [210.       175.8086   147.8086  ]\n",
      "  [210.       175.8086   147.8086  ]\n",
      "  [210.       175.8086   147.8086  ]]\n",
      "\n",
      " [[184.85547  159.57031  130.42578 ]\n",
      "  [180.71484  159.71484  129.28516 ]\n",
      "  [178.14453  162.42969  130.      ]\n",
      "  ...\n",
      "  [210.14453  179.71484  150.42969 ]\n",
      "  [211.       180.57031  151.28516 ]\n",
      "  [209.85938  179.42969  150.14453 ]]\n",
      "\n",
      " [[184.47656  162.76172  136.      ]\n",
      "  [177.47656  159.76172  132.      ]\n",
      "  [175.       161.       132.      ]\n",
      "  ...\n",
      "  [206.       179.       149.      ]\n",
      "  [209.       182.       152.      ]\n",
      "  [205.       178.       148.      ]]], shape=(128, 128, 3), dtype=float32)\n",
      "label: tf.Tensor(b'cats', shape=(), dtype=string)\n",
      "image: tf.Tensor(\n",
      "[[[ 52.481796   59.481796    5.4817963]\n",
      "  [ 57.17961    60.312424    7.2460175]\n",
      "  [ 57.808594   62.808594    6.8085938]\n",
      "  ...\n",
      "  [138.06523   151.61992    76.842575 ]\n",
      "  [137.        149.         75.       ]\n",
      "  [137.18883   147.18883    76.18883  ]]\n",
      "\n",
      " [[ 49.44539    57.19133     5.       ]\n",
      "  [ 52.63672    57.          6.       ]\n",
      "  [ 54.542587   59.784775    6.0269623]\n",
      "  ...\n",
      "  [137.22266   150.77734    76.       ]\n",
      "  [137.1211    149.1211     75.12109  ]\n",
      "  [136.68758   148.68758    76.44539  ]]\n",
      "\n",
      " [[ 46.464844   54.464844    3.4648438]\n",
      "  [ 47.964462   55.          4.0710754]\n",
      "  [ 49.222656   56.222656    4.7578125]\n",
      "  ...\n",
      "  [138.05466   150.77734    76.416    ]\n",
      "  [138.56602   150.56602    76.566025 ]\n",
      "  [138.34492   150.34492    77.41524  ]]\n",
      "\n",
      " ...\n",
      "\n",
      " [[ 32.820312   38.109375   10.464844 ]\n",
      "  [ 31.         37.933594    7.1328125]\n",
      "  [ 34.         41.         10.       ]\n",
      "  ...\n",
      "  [233.60353   173.43553   118.01953  ]\n",
      "  [239.06174   179.16835   125.20389  ]\n",
      "  [238.03906   185.0496    136.79532  ]]\n",
      "\n",
      " [[ 33.         37.         12.       ]\n",
      "  [ 33.         37.         10.       ]\n",
      "  [ 35.         40.         10.       ]\n",
      "  ...\n",
      "  [228.8043    167.1211    110.56641  ]\n",
      "  [236.4961    175.51218   118.74632  ]\n",
      "  [240.95695   183.95312   134.1875   ]]\n",
      "\n",
      " [[ 33.         37.         12.       ]\n",
      "  [ 32.70703    36.70703     9.707031 ]\n",
      "  [ 34.222656   39.222656    9.222656 ]\n",
      "  ...\n",
      "  [230.00508   168.22774   111.67305  ]\n",
      "  [234.        172.        112.96109  ]\n",
      "  [239.96227   178.83594   125.33859  ]]], shape=(128, 128, 3), dtype=float32)\n",
      "label: tf.Tensor(b'cats', shape=(), dtype=string)\n"
     ]
    }
   ],
   "source": [
    "for img, label in images_ds.map(process_image).take(3):\n",
    "    print(\"image:\" , img)\n",
    "    print(\"label:\" , label)"
   ]
  }
 ],
 "metadata": {
  "kernelspec": {
   "display_name": "Python 3 (ipykernel)",
   "language": "python",
   "name": "python3"
  },
  "language_info": {
   "codemirror_mode": {
    "name": "ipython",
    "version": 3
   },
   "file_extension": ".py",
   "mimetype": "text/x-python",
   "name": "python",
   "nbconvert_exporter": "python",
   "pygments_lexer": "ipython3",
   "version": "3.11.5"
  }
 },
 "nbformat": 4,
 "nbformat_minor": 5
}
